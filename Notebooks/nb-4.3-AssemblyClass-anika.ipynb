{
 "cells": [
  {
   "cell_type": "markdown",
   "metadata": {},
   "source": [
    "## This notebook\n",
    "For this notebook we will be writing the nuts and bolts of a Python package. It will be easiest to follow along with the instructions if you start your jupyter session from inside the `Notebooks/` directory. "
   ]
  },
  {
   "cell_type": "markdown",
   "metadata": {},
   "source": [
    "## Objects, Packages, and Classes\n",
    "Before completing this notebook first complete your reading of Chapters 14-18 in [ThinkPython](http://www.greenteapress.com/thinkpython2/html/index.html). Once completed, you will now have a fairly complete background in Python programming. You are familiar with the core tools that you need to write almost any program in Python. We'll still continue learning many more tricks in the coming weeks for working with statistical packages and making code run efficiently, but now the more important thing to learn is how to put the pieces that we've learned so far together into coherent ways to solve problems. "
   ]
  },
  {
   "cell_type": "markdown",
   "metadata": {},
   "source": [
    "### Python packages\n",
    "One major goal of scientific programming is to create a tool that is not only sufficient to achieve your goal, but is generally useful enough that it can be reused by others to achieve the same goal as well. For this, you'll need to write your code so that it is user-friendly and easy to understand, and you'll also need to package it in a way that it is easy to access. These two goals are the focus of this notebook. "
   ]
  },
  {
   "cell_type": "markdown",
   "metadata": {},
   "source": [
    "### Imports\n",
    "We've learned already how to import packages using the `import` statement, and we know that the packages we are importing have either been part of the standard Python library, or else we installed them ourselves using `conda`. But what does a Python package look like? Well, it's just a collection of Python code, of course. But there is a specific structure to how it is written that allows it to be imported. So let's cover that now."
   ]
  },
  {
   "cell_type": "code",
   "execution_count": 1,
   "metadata": {},
   "outputs": [],
   "source": [
    "## import installed packages\n",
    "import toyplot\n",
    "import random\n"
   ]
  },
  {
   "cell_type": "markdown",
   "metadata": {},
   "source": [
    "### Local imports\n",
    "The first step towards writing a Python package is to save your Python functions into a `.py` file. We created one in class by copying the functions we wrote in a notebook into a separate file using the text editor built into Jupyter. There are many possible text editors you could use. And we discussed the specific structure of `.py` files in the lecture. Take a look now at the file we wrote in class that is in `Notebooks/debruijn_funcs.py`. Similarly, you can take a look at the file `Notebooks/eulerian.py`. Our file `debruijn_funcs.py` defines several functions, while the file `eulerian.py` defines several functions in addition to a few Class objects, which we'll discuss below and were covered in your reading. Both of these are valid `.py` files. Because of this, we can use `import` on either of them to gain access to their Classes and functions here in this notebook. So let's try that below. This is called a 'local import' because we are importing these files from our current directory (`Notebooks/`). We'll cover later how to make them importable from anywhere. "
   ]
  },
  {
   "cell_type": "code",
   "execution_count": 2,
   "metadata": {},
   "outputs": [],
   "source": [
    "## this imports all functions from debuijn.py\n",
    "import debruijn_funcs\n",
    "\n",
    "## this imports just one function from eulerian.py\n",
    "from eulerian import eulerian_path"
   ]
  },
  {
   "cell_type": "markdown",
   "metadata": {},
   "source": [
    "## Classes\n",
    "Classes are an interesting aspect of Python coding, as they are not actually essential the way that functions or data types are, but stylistically they are quite beneficial to learn and use as they make for a very organized way to write and package your code. Here we're going to rewrite our code from the debruijn scripts so that it is organized into a Class object. "
   ]
  },
  {
   "cell_type": "markdown",
   "metadata": {},
   "source": [
    "### Planning the code design \n",
    "There are many ways to structure a Class object, so keep in mind that the design we've decided to use here is not the only way that this could be done. Many aspects of designing a Class object are about aesthetics, and the way in which you want a user to interact with your code. We'll walk through several steps below to write our Class piece by piece. First, though, we'll define our objective using the commented code below as for how we want the Class to be structured:"
   ]
  },
  {
   "cell_type": "markdown",
   "metadata": {},
   "source": [
    "#### Attributes of the object\n",
    "Attributes are typically stored objects that the user may want to view or interact with. These are commonly strings, tuples, lists, etc. For our object, we want to have the following attributes accessible to the user. These correspond to the randomly generated target sequence, the randomly generated sequenced reads, the kmers generated from those reads, the edges of the deBruijn graph, and the assembly sequence made from that graph. "
   ]
  },
  {
   "cell_type": "code",
   "execution_count": null,
   "metadata": {},
   "outputs": [],
   "source": [
    "# obj.target\n",
    "# obj.reads\n",
    "# obj.kmers\n",
    "# obj.edges\n",
    "# obj.assembly"
   ]
  },
  {
   "cell_type": "markdown",
   "metadata": {},
   "source": [
    "#### Functions of the object\n",
    "We will create seven functions for the object. The special function `__init__()` is automatically called when a Class object is created. The next five functions we have seen before, and will be copied more or less from our `debruijn_funcs.py` script, and the last function `run()` we will write here. As you can see the debruijn functions are all written with an underscore before their names. This means that we are designating them as \"private\" functions. They are meant for the developer to use and know about, but are not expected to be called by the user. The underscore essentially hides them from being seen when you use tab-completion. Only the `.run()` function will be exposed to the user.  "
   ]
  },
  {
   "cell_type": "code",
   "execution_count": 3,
   "metadata": {},
   "outputs": [],
   "source": [
    "# obj.__init__()\n",
    "# obj._random_dna()\n",
    "# obj._get_reads()\n",
    "# obj._get_kmers()\n",
    "# obj._reads_to_kmers()\n",
    "# obj._get_debruijn_edges()\n",
    "# obj._get_eulerian_path()\n",
    "# obj.run()"
   ]
  },
  {
   "cell_type": "markdown",
   "metadata": {},
   "source": [
    "So a user would then interact with it by doing something like the code below. We know assembling the debruijn graph and inferring the eulerian path requires calling several different functions. So we'll make the `.run()` function call all of these subfunctions for us. "
   ]
  },
  {
   "cell_type": "code",
   "execution_count": 4,
   "metadata": {},
   "outputs": [],
   "source": [
    "## initialize an Assembly object for a target that is 500bp\n",
    "#data = Assembly(500)\n",
    "\n",
    "## return .assembly result, takes input of nreads, rlen, and k\n",
    "## and calls many subfunctions to perform assembly\n",
    "#data.run(nreads=50, rlen=20, k=4)"
   ]
  },
  {
   "cell_type": "markdown",
   "metadata": {},
   "source": [
    "### Step 1 in coding the Assembly Class object\n",
    "I've started writing the Class object for you. The first thing we should look for to try to understand what a Class object does is to look at the `__init__()` function. This is the function that is automatically executed when an object of this class is created. Here we can see that the `__init__()` function takes one required argument (target_length) and one optional argument (random_seed). The second argument is optional because there is a default value entered for it in the function arguments (random_seed=123). \n",
    "\n",
    "You can see that the `__init__` function defines an attribute `.target` and it also calls a function called `_random_sequence`, which is defined below. The `_random_sequence` function is copied from the `debruijn_funcs` scripts, but is modified slightly. Here, instead of having a `return` statement to return the value, it instead *stores its results to the target attribute of self*. To make `_random_sequence` a function of self, we need to add `self` as the first argument to its function. This is simply the syntax of how to define Class functions. We've also added the function call `random.seed` to initialize the random number generator using the `random_seed` variable. This will make our analyses reproducible. "
   ]
  },
  {
   "cell_type": "code",
   "execution_count": 8,
   "metadata": {},
   "outputs": [],
   "source": [
    "class Assembler1():\n",
    "    \"\"\"\n",
    "    An object for constructing a debuijn graph from kmers of random reads\n",
    "    \"\"\"\n",
    "    def __init__(self, target_length, random_seed=123):\n",
    "\n",
    "        ## store attributes\n",
    "        self.target = None \n",
    "        \n",
    "        ## run init functions\n",
    "        random.seed(random_seed)\n",
    "        self._random_sequence(target_length)\n",
    "        \n",
    "        \n",
    "    def _random_sequence(self, target_length):\n",
    "        self.target = \"\".join((random.choice(\"ACGT\") for i in range(target_length)))"
   ]
  },
  {
   "cell_type": "markdown",
   "metadata": {},
   "source": [
    "Let's test out our Class object so far by initializing an `instance`, which we could name anything. I'll call it data throughout this notebook. \n"
   ]
  },
  {
   "cell_type": "code",
   "execution_count": 9,
   "metadata": {},
   "outputs": [
    {
     "data": {
      "text/plain": [
       "'AGATGAATGGACCGGCCATATAAGTAAACCAGTTGTAGGTCGATTTTGACATGCGGTATTGACAGAGCTAGTCTCCTTTAACTCAGGGTTAAAGAATATATAGGTAGTGACTACGCAATGCGTGCGACTTACTAGTTGTACGCGAGCGAGCCGGTAACCACGCAGAGCCTTTAGTGTCCATGAAGTGTGGCTGCCTATTGCTGAGAGGATATGATGCTGTGCTGGACAATTCTATCGGCATGAGTCAGGCTGTAATCCAGCCGTTCGAATGCATTTAATTGCTCCCCACCATAATGAACTGCGAGGCAGCTCTCTTCTATAGCTACATGATGGGCTAAAGACTCTCTCACAGAACCTTCTAACATACAGTCCCTGCAAGGTGCAAAACGCCAGTGGCTAGGGAGAGATCGTACTACCGTTGCTAGACCGCACAGAAGAGGCGTAGAAGGGTCAAAATTGCCTATCCATCACGTCTGAAATGACGGGACGGCTCTATACCA'"
      ]
     },
     "execution_count": 9,
     "metadata": {},
     "output_type": "execute_result"
    }
   ],
   "source": [
    "## init an instance and print the target\n",
    "data = Assembler1(500)\n",
    "data.target"
   ]
  },
  {
   "cell_type": "markdown",
   "metadata": {},
   "source": [
    "### Step 2 in the Assembly object\n",
    "The other functions that are outside of `__init__()` will need to be called from the object after it is initialized. This is a good way to structure our object since we want to be able to initialize a single target sequence of DNA and then perhaps try many different parameters for the number of reads and their length and kmer size to see how they affect our ability to assemble it. \n",
    "\n",
    "\n",
    "A good way to write your Class is to define all of the attributes at the top of the Class, and then to define the functions below. So let's add a few more attributes here that we wish to define eventually, and we'll add one more function to fill in one of the attributes. Again, the functions here are being taken from the debruijn funcs we wrote before, and just modified slightly. You can see that now the `_get_reads` function doesn't require us to input the `target` sequence to it anymore, but instead since its first argument is `self`, it can access the target sequence directly from self. And, once again, instead of having a return value it stores its results directly to the `self.reads` attribute. "
   ]
  },
  {
   "cell_type": "code",
   "execution_count": 10,
   "metadata": {},
   "outputs": [],
   "source": [
    "class Assembler2():\n",
    "    \"\"\"\n",
    "    An object for constructing a debuijn graph from kmers of random reads\n",
    "    \"\"\"\n",
    "    def __init__(self, target_length, random_seed=123):\n",
    "\n",
    "        ## store attributes\n",
    "        self.target = None \n",
    "        self.reads = None\n",
    "        self.kmers = None\n",
    "        self.edges = None\n",
    "        self.assembly = None\n",
    "        \n",
    "        ## run init functions\n",
    "        random.seed(random_seed)\n",
    "        self._random_sequence(target_length)\n",
    "        \n",
    "        \n",
    "    ## private functions\n",
    "    def _random_sequence(self, target_length):\n",
    "        self.target = \"\".join((random.choice(\"ACGT\") for i in range(target_length)))\n",
    "        \n",
    "    \n",
    "    def _get_reads(self, nreads, rlen):\n",
    "        \"returns nreads of len rlen drawn from string\"  \n",
    "        last_start = len(self.target) - rlen\n",
    "        startpoints = [random.randint(0, last_start) for i in range(nreads)]\n",
    "        self.reads = [self.target[i:i+rlen] for i in startpoints]\n",
    "        "
   ]
  },
  {
   "cell_type": "code",
   "execution_count": 11,
   "metadata": {},
   "outputs": [
    {
     "data": {
      "text/plain": [
       "['TTTGACATGCGGTATTGACA',\n",
       " 'GAGCGAGCCGGTAACCACGC',\n",
       " 'TATATAGGTAGTGACTACGC',\n",
       " 'AATATATAGGTAGTGACTAC',\n",
       " 'ATATAAGTAAACCAGTTGTA',\n",
       " 'CTTTAACTCAGGGTTAAAGA',\n",
       " 'GTTGTAGGTCGATTTTGACA',\n",
       " 'CTAGTCTCCTTTAACTCAGG',\n",
       " 'TTACTAGTTGTACGCGAGCG',\n",
       " 'TAACCACGCAGAGCCTTTAG']"
      ]
     },
     "execution_count": 11,
     "metadata": {},
     "output_type": "execute_result"
    }
   ],
   "source": [
    "## init an instance of the Class\n",
    "data = Assembler2(200)\n",
    "\n",
    "## test the private function _get_reads\n",
    "data._get_reads(10, 20)\n",
    "data.reads"
   ]
  },
  {
   "cell_type": "markdown",
   "metadata": {},
   "source": [
    "### Step 3 in the Assembly object\n",
    "\n",
    "Now we're going to write a composite function that calls several private functions. The reason for this is that we don't really have a need for stopping in between running these functions, so it is best to write a function that calls all three of them. Alternatively, you could imagine just writing a single function to perform all three tasks, but that will generally make the code harder to read and less clear. Here we will add `_get_kmers` and `_reads_to_kmers` and define a new function `run` that runs three functions together. "
   ]
  },
  {
   "cell_type": "code",
   "execution_count": 12,
   "metadata": {},
   "outputs": [],
   "source": [
    "class Assembler3():\n",
    "    \"\"\"\n",
    "    An object for constructing a debuijn graph from kmers of random reads\n",
    "    \"\"\"\n",
    "    def __init__(self, target_length, random_seed=123):\n",
    "\n",
    "        ## store attributes\n",
    "        self.target = None \n",
    "        self.reads = None\n",
    "        self.kmers = None\n",
    "        self.edges = None\n",
    "        self.assembly = None\n",
    "        \n",
    "        ## run init functions\n",
    "        random.seed(random_seed)\n",
    "        self._random_sequence(target_length)\n",
    "        \n",
    "        \n",
    "    ## private functions\n",
    "    def _random_sequence(self, target_length):\n",
    "        self.target = \"\".join((random.choice(\"ACGT\") for i in range(target_length)))\n",
    "        \n",
    "        \n",
    "    def _get_reads(self, nreads, rlen):\n",
    "        \"returns nreads of len rlen drawn from string\"  \n",
    "        last_start = len(self.target) - rlen\n",
    "        startpoints = [random.randint(0, last_start) for i in range(nreads)]\n",
    "        self.reads = [self.target[i:i+rlen] for i in startpoints]\n",
    "        \n",
    "        \n",
    "    def _get_kmers(self, string, k):\n",
    "        \"returns k-mers dict for a string target\"\n",
    "        kmers = {}\n",
    "        for i in range(0, len(string) - k + 1):\n",
    "            kmer = string[i:i+k]\n",
    "            if kmer in kmers:\n",
    "                kmers[kmer] += 1\n",
    "            else:\n",
    "                kmers[kmer] = 1\n",
    "        return kmers\n",
    "    \n",
    "\n",
    "    def _reads_to_kmers(self, k):\n",
    "        \"stores kmers to dict uses update to join together kmer dict keys\"\n",
    "        kmers = {}\n",
    "        for read in self.reads:\n",
    "            ikmers = self._get_kmers(read, k)\n",
    "            kmers.update(ikmers)\n",
    "        self.kmers = kmers\n",
    "        \n",
    "        \n",
    "    ## public function\n",
    "    def run(self, nreads, rlen, k):\n",
    "        \"generates reads and breaks them into kmers\"\n",
    "        self._get_reads(nreads, rlen)\n",
    "        self._reads_to_kmers(k)\n",
    "        "
   ]
  },
  {
   "cell_type": "code",
   "execution_count": 13,
   "metadata": {},
   "outputs": [
    {
     "data": {
      "text/plain": [
       "167"
      ]
     },
     "execution_count": 13,
     "metadata": {},
     "output_type": "execute_result"
    }
   ],
   "source": [
    "## init an instance of the Class\n",
    "data = Assembler3(200)\n",
    "\n",
    "## test the private function _get_reads\n",
    "data.run(50, 50, 5)\n",
    "\n",
    "## check out kmers\n",
    "len(data.kmers)"
   ]
  },
  {
   "cell_type": "markdown",
   "metadata": {},
   "source": [
    "### Step 4 in writing the Assembly object\n",
    "Now as you see below we add two additional functions to the `.run()` function, and we define both of those functions just above it. Here I've changed the code slightly since we wrote it in class to fix some bugs. The `get_debruijn_edges` function finds kmers than overlap by n-1 of their length, and the `eulerian_path` function looks for a unique path through the debruijn graph that touches each edge once. The eulerian function here also concatenates the returned path into a string. The eulerian_path function raises an error if a single path is not found, so we add an exception clause to simply return an empty string if the path cannot be found. "
   ]
  },
  {
   "cell_type": "code",
   "execution_count": 14,
   "metadata": {},
   "outputs": [],
   "source": [
    "class Assembler4():\n",
    "    \"\"\"\n",
    "    An object for constructing a debuijn graph from kmers of random reads\n",
    "    \"\"\"\n",
    "    def __init__(self, target_length, random_seed=123):\n",
    "\n",
    "        ## store attributes\n",
    "        self.target = None \n",
    "        self.reads = None\n",
    "        self.kmers = None\n",
    "        self.edges = None\n",
    "        self.assembly = None\n",
    "        \n",
    "        ## run init functions\n",
    "        random.seed(random_seed)\n",
    "        self._random_sequence(target_length)\n",
    "        \n",
    "        \n",
    "    ## private functions\n",
    "    def _random_sequence(self, target_length):\n",
    "        self.target = \"\".join((random.choice(\"ACGT\") for i in range(target_length)))\n",
    "        \n",
    "        \n",
    "    def _get_reads(self, nreads, rlen):\n",
    "        \"returns nreads of len rlen drawn from string\"  \n",
    "        last_start = len(self.target) - rlen\n",
    "        startpoints = [random.randint(0, last_start) for i in range(nreads)]\n",
    "        self.reads = [self.target[i:i+rlen] for i in startpoints]\n",
    "        \n",
    "        \n",
    "    def _get_kmers(self, string, k):\n",
    "        \"returns k-mers dict for a string target\"\n",
    "        kmers = {}\n",
    "        for i in range(0, len(string) - k + 1):\n",
    "            kmer = string[i:i+k]\n",
    "            if kmer in kmers:\n",
    "                kmers[kmer] += 1\n",
    "            else:\n",
    "                kmers[kmer] = 1\n",
    "        return kmers\n",
    "    \n",
    "\n",
    "    def _reads_to_kmers(self, k):\n",
    "        \"stores kmers to dict uses update to join together kmer dict keys\"\n",
    "        kmers = {}\n",
    "        for read in self.reads:\n",
    "            ikmers = self._get_kmers(read, k)\n",
    "            kmers.update(ikmers)\n",
    "        self.kmers = kmers\n",
    "        \n",
    "\n",
    "\n",
    "    def _get_debruijn_edges(self):\n",
    "        \" return edges of the debruijn graph for a set of kmers\"\n",
    "        edges = set()\n",
    "        kmers = tuple(self.kmers.keys())\n",
    "        for k1 in kmers:\n",
    "            for k2 in kmers:\n",
    "                ## if xaa = aax then add (xaa, aax)\n",
    "                if k1[1:] == k2[:-1]:\n",
    "                    edges.add((k1, k2))\n",
    "        self.edges = edges\n",
    "\n",
    "        \n",
    "        \n",
    "    def _get_eulerian_path(self):\n",
    "        \"\"\"\n",
    "        returns eulerian path through kmers joined as a string.\n",
    "        Uses the loaded 'eulerian_path()' function from eulerian.py\n",
    "        \"\"\"\n",
    "        try:\n",
    "            epath = eulerian_path(self.edges)\n",
    "            path = epath[0]\n",
    "            for kmer in epath[1:]:\n",
    "                path += kmer[-1]\n",
    "            self.assembly = path\n",
    "        except Exception:\n",
    "            self.assembly = \"\"\n",
    "          \n",
    "        \n",
    "    ## public function\n",
    "    def run(self, nreads, rlen, k):\n",
    "        \"generates reads and breaks them into kmers\"\n",
    "        self._get_reads(nreads, rlen)\n",
    "        self._reads_to_kmers(k)\n",
    "        self._get_debruijn_edges()\n",
    "        self._get_eulerian_path()\n",
    "        "
   ]
  },
  {
   "cell_type": "markdown",
   "metadata": {},
   "source": [
    "### Test our full assembler\n",
    "Now we can test our Class object easily with just a few commands. Having a simple object like this also makes it much easier to write methods for testing it. "
   ]
  },
  {
   "cell_type": "code",
   "execution_count": 16,
   "metadata": {},
   "outputs": [
    {
     "data": {
      "text/plain": [
       "True"
      ]
     },
     "execution_count": 16,
     "metadata": {},
     "output_type": "execute_result"
    }
   ],
   "source": [
    "## init an Assembler object\n",
    "data = Assembler4(200)\n",
    "\n",
    "## run assembly for given parameters\n",
    "data.run(300, 50, 15)\n",
    "\n",
    "## ask whether assembly matches the target\n",
    "data.assembly == data.target"
   ]
  },
  {
   "cell_type": "markdown",
   "metadata": {},
   "source": [
    "### Test our assembler over different values\n",
    "Here we use a for-loop to test over many different parameters to see how they affect our ability to assemble the target sequence. "
   ]
  },
  {
   "cell_type": "code",
   "execution_count": 17,
   "metadata": {},
   "outputs": [],
   "source": [
    "result_dict = {}\n",
    "\n",
    "for target_size in [200, 500, 1000]:\n",
    "    data = Assembler4(target_size)\n",
    "    \n",
    "    for nreads in [500, 1000, 5000]:\n",
    "        for k in [10, 20, 30]:\n",
    "            data.run(nreads=nreads, rlen=50, k=k)\n",
    "            \n",
    "            ## store result in dict\n",
    "            result = data.assembly == data.target\n",
    "            result_dict[(target_size, nreads, k)] = result "
   ]
  },
  {
   "cell_type": "markdown",
   "metadata": {},
   "source": [
    "### It's harder to assemble longer targets with fewer reads or shorter kmers"
   ]
  },
  {
   "cell_type": "code",
   "execution_count": 19,
   "metadata": {},
   "outputs": [
    {
     "data": {
      "text/plain": [
       "{(200, 500, 10): True,\n",
       " (200, 500, 20): True,\n",
       " (200, 500, 30): True,\n",
       " (200, 1000, 10): True,\n",
       " (200, 1000, 20): True,\n",
       " (200, 1000, 30): True,\n",
       " (200, 5000, 10): True,\n",
       " (200, 5000, 20): True,\n",
       " (200, 5000, 30): True,\n",
       " (500, 500, 10): False,\n",
       " (500, 500, 20): False,\n",
       " (500, 500, 30): True,\n",
       " (500, 1000, 10): False,\n",
       " (500, 1000, 20): True,\n",
       " (500, 1000, 30): True,\n",
       " (500, 5000, 10): True,\n",
       " (500, 5000, 20): True,\n",
       " (500, 5000, 30): True,\n",
       " (1000, 500, 10): False,\n",
       " (1000, 500, 20): False,\n",
       " (1000, 500, 30): False,\n",
       " (1000, 1000, 10): False,\n",
       " (1000, 1000, 20): False,\n",
       " (1000, 1000, 30): True,\n",
       " (1000, 5000, 10): True,\n",
       " (1000, 5000, 20): True,\n",
       " (1000, 5000, 30): True}"
      ]
     },
     "execution_count": 19,
     "metadata": {},
     "output_type": "execute_result"
    }
   ],
   "source": [
    "result_dict"
   ]
  },
  {
   "cell_type": "markdown",
   "metadata": {},
   "source": [
    "## Assignment\n",
    "\n",
    "#### (1) Add a new function to the Assembler Class object called `test()`\n",
    "This function should call the `.run()` function over a range of parameter values in a for-loop like we did above and return the results as a dictionary. Test that your function works and returns results similar to the example above. "
   ]
  },
  {
   "cell_type": "code",
   "execution_count": null,
   "metadata": {},
   "outputs": [],
   "source": []
  },
  {
   "cell_type": "markdown",
   "metadata": {},
   "source": [
    "#### (2) Add a new function to the Assembler Class object called `plot()`\n",
    "This function should return a toyplot graph object using the function below, or some modification of it if you feel like tweaking the parameters to make the graph look better. You can learn more about the toyplot plotting library [here](https://toyplot.rtfd.io) if you'd like. Test that your plot function works and draws a graph. I would advise testing it on relatively small graphs (e.g., target_length < 300) otherwise it starts to get messy and memory intensive. "
   ]
  },
  {
   "cell_type": "code",
   "execution_count": null,
   "metadata": {},
   "outputs": [],
   "source": [
    "def plot(self):\n",
    "    e0 = [i[0] for i in self.edges]\n",
    "    e1 = [i[1] for i in self.edges]\n",
    "    toyplot.graph(e0, e1, tmarker=\">\", vlstyle={'font-size': '8px'});\n"
   ]
  },
  {
   "cell_type": "markdown",
   "metadata": {},
   "source": [
    "#### (3) Copy our Assembler Class object to a new .py file\n",
    "Once your Assembler Class function has been fully tested copy/paste the Class object into a new text file and save it as `Notebooks/{username}_dbClass.py`. (Note: if your username has a `-` character in it then do not include this in your filename, it will cause problems). Make sure that you format this `.py` file as we've discussed, by putting a shebang at the top, followed by comments, then imports, then code. Do not forget to add import statements for both eulierian.py and toyplot. Check that you can import the file once you've saved it by calling `import` on it below (this is the reason I'm having you save it in Notebooks/ currently).  "
   ]
  },
  {
   "cell_type": "code",
   "execution_count": null,
   "metadata": {},
   "outputs": [],
   "source": [
    "## edit this to the name of *your* script\n",
    "import eatonlab_dbClass.py"
   ]
  },
  {
   "cell_type": "markdown",
   "metadata": {},
   "source": [
    "#### (4) Finally, copy your .py file to the `Assignments/` directory and make pull request\n",
    "Add, commit and push to your repository and make a pull request on the Course repo to submit your assignment. "
   ]
  },
  {
   "cell_type": "code",
   "execution_count": null,
   "metadata": {},
   "outputs": [],
   "source": []
  }
 ],
 "metadata": {
  "kernelspec": {
   "display_name": "Python 3",
   "language": "python",
   "name": "python3"
  },
  "language_info": {
   "codemirror_mode": {
    "name": "ipython",
    "version": 3
   },
   "file_extension": ".py",
   "mimetype": "text/x-python",
   "name": "python",
   "nbconvert_exporter": "python",
   "pygments_lexer": "ipython3",
   "version": "3.5.4"
  }
 },
 "nbformat": 4,
 "nbformat_minor": 2
}
